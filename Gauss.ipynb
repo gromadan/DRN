{
 "cells": [
  {
   "cell_type": "code",
   "execution_count": 1,
   "metadata": {},
   "outputs": [],
   "source": [
    "import numpy as np\n",
    "import time\n",
    "import scipy.linalg as la"
   ]
  },
  {
   "cell_type": "markdown",
   "metadata": {},
   "source": [
    "Následující kód implementuje Gaussovu eliminaci. Předně bych chtěl zdůraznit, že kód není napsán optimálně (pro rychlost), ale co nejjednodušeji (pro přehlednost), aby se v něm člověk snadno vyznal a mohl si ho osahat. Speciálně si můžete všimnout, že se v každém kole zbytečně odčítá a násobí celý řádek, přitom by stačily pouze prvky $j>i$. Pro praktické použití pochopitelně nemá smysl cokoliv programovat sám, můžeme místo toho využít nějakou vestavěnou knihovnu, která bude jistě pracovat daleko lépe.\n",
    "\n",
    "Funkce `Gauss(A,b)` implementuje samotnou Gaussovu eliminaci. Přitom `A` je matice soustavy a `b` je vektor pravých stran (může být i matice s několika vektory ve sloupečcích). Soustava $Ax=b$ se převede na soustavu $Ux=d$, kde $U$ je horní trojúhelníková matice a $d$ nějaký jiný vektor. Výstupem je právě dvojice `[U,d]`.\n",
    "\n",
    "Chceme-li získat skutečně řešení soustavy $Ax=b$, musíme po převodu na tvar $Ux=d$ provést tzv. zpětnou substituci. Tu provádí funkce `BS(U,d)`. Výstupem je řešení `x`.\n",
    "\n",
    "**Cvičení:** Zkuste modifikovat funkci `Gauss(A,b)` tak, aby vygenerovala LU rozklad (když se vykašlete na pivotování), příp. LUP rozklad."
   ]
  },
  {
   "cell_type": "code",
   "execution_count": 2,
   "metadata": {},
   "outputs": [],
   "source": [
    "def Gauss(A,b):                      #GAUSSOVA ELIMINACE\n",
    "    n=len(A)                         #n=velikost matice A\n",
    "    B=np.c_[A,b]                     #B=rozšířená matice soustavy\n",
    "    for i in range(n-1):             #procházíme všechny sloupce\n",
    "        j=np.argmax(np.abs(B[i:,i])) #vybereme nejvyšší hodnotu v i-tém sloupci (počínaje i-tým řádkem)\n",
    "        B[[i,i+j]]=B[[i+j,i]]        #prohodíme daný řádek s i-tým (částečné pivotování)\n",
    "        for j in range(i+1,n):       #pro každé j>i vytvoříme nulu na j-tém řádku\n",
    "            B[j]=B[j]-B[j,i]/B[i,i]*B[i]\n",
    "    U=B[:,:n]                        #rozšířenou matici zpátky rozpůlíme na U a d\n",
    "    d=B[:,n:]\n",
    "    return(U,d)"
   ]
  },
  {
   "cell_type": "code",
   "execution_count": 3,
   "metadata": {},
   "outputs": [],
   "source": [
    "def BS(U,d):                         #ZPĚTNÁ SUBSTITUCE\n",
    "    n=len(U)                         #n=velikost matice U\n",
    "    x=np.ndarray.copy(d)             #zkopírujeme zadané d, abychom si ho neponičili\n",
    "    for i in range(n-1,-1,-1):       #procházíme odzadu řádky vektoru d\n",
    "        x[i]=x[i]/U[i,i]\n",
    "        for j in range(i):\n",
    "            x[j]=x[j]-U[j,i]*x[i]\n",
    "    return(x)"
   ]
  },
  {
   "cell_type": "code",
   "execution_count": 4,
   "metadata": {},
   "outputs": [],
   "source": [
    "def GaussJordan(A,b):                #GAUSSOVA-JORDANOVA ELIMINACE\n",
    "    n=len(A)                         #n=velikost matice A\n",
    "    B=np.c_[A,b]                     #B=rozšířená matice soustavy\n",
    "    for i in range(n):               #procházíme všechny sloupce\n",
    "        j=np.argmax(np.abs(B[i:,i])) #vybereme nejvyšší hodnotu v i-tém sloupci (počínaje i-tým řádkem)\n",
    "        B[[i,i+j]]=B[[i+j,i]]        #prohodíme daný řádek s i-tým (částečné pivotování)\n",
    "        B[i]=B[i]/B[i,i]             #normalizujeme řádek\n",
    "        for j in range(i):           #pro každé j!=i vytvoříme nulu na j-tém řádku\n",
    "            B[j]=B[j]-B[j,i]*B[i]\n",
    "        for j in range(i+1,n):         \n",
    "            B[j]=B[j]-B[j,i]*B[i]\n",
    "    x=B[:,n:]\n",
    "    return(x)"
   ]
  },
  {
   "cell_type": "markdown",
   "metadata": {},
   "source": [
    "Vyzkoušíme, jak to funguje, na příkladu ze cvičení"
   ]
  },
  {
   "cell_type": "code",
   "execution_count": 5,
   "metadata": {},
   "outputs": [],
   "source": [
    "A=np.array([[2.,4.,-2.],[1.,1.,-2.],[-3.,1.,8.]])  #matice soustavy\n",
    "b=np.array([4.,3.,-11.])                           #vektor/matice pravých stran"
   ]
  },
  {
   "cell_type": "code",
   "execution_count": 6,
   "metadata": {},
   "outputs": [],
   "source": [
    "[U,d]=Gauss(A,b)"
   ]
  },
  {
   "cell_type": "code",
   "execution_count": 7,
   "metadata": {},
   "outputs": [
    {
     "data": {
      "text/plain": [
       "array([[ 1.],\n",
       "       [ 0.],\n",
       "       [-1.]])"
      ]
     },
     "execution_count": 7,
     "metadata": {},
     "output_type": "execute_result"
    }
   ],
   "source": [
    "BS(U,d)"
   ]
  },
  {
   "cell_type": "code",
   "execution_count": 8,
   "metadata": {},
   "outputs": [
    {
     "data": {
      "text/plain": [
       "array([[ 1.],\n",
       "       [ 0.],\n",
       "       [-1.]])"
      ]
     },
     "execution_count": 8,
     "metadata": {},
     "output_type": "execute_result"
    }
   ],
   "source": [
    "GaussJordan(A,b)"
   ]
  },
  {
   "cell_type": "markdown",
   "metadata": {},
   "source": [
    "Následující kód generuje matice 1000×1000 a k nim vektory pravých stran a zkouší na ně různé metody a měří čas, za které to zvládnou. Kromě funkcí, které jsme implementovali výše, zkoušíme i vestavěnou funkci pro LUP rozklad (tj. Gaussova eliminace) a vestavěnou funkci pro řešení trojúhelníkových soustav (tj. zpětná substituce)."
   ]
  },
  {
   "cell_type": "code",
   "execution_count": 9,
   "metadata": {},
   "outputs": [
    {
     "name": "stdout",
     "output_type": "stream",
     "text": [
      "Gaussova eliminace:   1.9082108839999998\n",
      "Zpětná substituce:    1.0811605870000003\n",
      "Gauss--Jordan:        4.064199029\n",
      "Vestavěný LU rozklad: 0.11547448199999977\n",
      "Vestavěná BS:         0.027718140999999363\n"
     ]
    }
   ],
   "source": [
    "n=1000\n",
    "A=2*np.random.rand(n,n)-np.ones((n,n))\n",
    "b=2*np.random.rand(n)-np.ones(n)\n",
    "t0=time.process_time()\n",
    "[U,d]=Gauss(A,b)\n",
    "t1=time.process_time()\n",
    "BS(U,d)\n",
    "t2=time.process_time()\n",
    "GaussJordan(U,d)\n",
    "t3=time.process_time()\n",
    "la.lu(A)\n",
    "t4=time.process_time()\n",
    "la.solve_triangular(U,d)\n",
    "t5=time.process_time()\n",
    "print(\"Gaussova eliminace:  \",t1-t0)\n",
    "print(\"Zpětná substituce:   \",t2-t1)\n",
    "print(\"Gauss--Jordan:       \",t3-t2)\n",
    "print(\"Vestavěný LU rozklad:\",t4-t3)\n",
    "print(\"Vestavěná BS:        \",t5-t4)"
   ]
  },
  {
   "cell_type": "markdown",
   "metadata": {},
   "source": [
    "V následujícím kódu vygenerujeme matici $A$ spolu s LU rozkladem. (Dejme tomu, že už jsme jednou Gaussovu eliminaci pro $A$ provedli.) Nyní vezmeme novou pravou stranu $b$ a chceme porovnat, jak dlouho by trvalo opět provést celou Gaussovu eliminaci, oproti tomu, kdybychom využili LU rozklad a provedli pouze dopřednou a zpětnou substituci.\n",
    "\n",
    "Pro provedení dopředné substituce používáme funkce `BS`, do které vložíme zrcadlově převrácenou matici a vektor pravých stran a výsledek opět zrcadlově převrátíme."
   ]
  },
  {
   "cell_type": "code",
   "execution_count": 10,
   "metadata": {},
   "outputs": [
    {
     "name": "stdout",
     "output_type": "stream",
     "text": [
      "Gaussova eliminace:   0.19963903500000058\n",
      "Zpětná substituce:    0.15708388099999837\n",
      "Dopředná substituce:  0.04420122800000037\n",
      "Zpětná substituce:    0.04261610600000054\n"
     ]
    }
   ],
   "source": [
    "n=100\n",
    "A=2*np.random.rand(n,n)-np.ones((n,n))\n",
    "P,L,U=la.lu(A)\n",
    "A=np.matmul(L,U)\n",
    "b=np.random.rand(n)\n",
    "t0=time.process_time()\n",
    "[V,d]=Gauss(A,b)\n",
    "t1=time.process_time()\n",
    "x=BS(V,d)\n",
    "t2=time.process_time()\n",
    "y=np.flip(BS(np.flip(L),np.flip(b)))\n",
    "t3=time.process_time()\n",
    "z=BS(U,y)\n",
    "t4=time.process_time()\n",
    "print(\"Gaussova eliminace:  \",t1-t0)\n",
    "print(\"Zpětná substituce:   \",t2-t1)\n",
    "print(\"Dopředná substituce: \",t3-t2)\n",
    "print(\"Zpětná substituce:   \",t4-t3)"
   ]
  },
  {
   "cell_type": "markdown",
   "metadata": {},
   "source": [
    "V následujícím kódu modifikujeme funkci `Gauss` tak, aby nedělala pivotování.\n",
    "\n",
    "Obecně to bez pivotování nejde, protože se shodou okolností může stát, že se na diagonále objeví nula. V takovém případě je prohození řádků nutnost. Pro jednoduchost kódu tento detail zanedbáme a budeme doufat, že tato situace nenastane. V případě, že používáme náhodné matice je pravděpodobnost takové situace velmi nízká.\n",
    "\n",
    "Porovnáme velikost chyby používajíce kód s pivotováním a bez něj."
   ]
  },
  {
   "cell_type": "code",
   "execution_count": 11,
   "metadata": {},
   "outputs": [],
   "source": [
    "def GaussNoPivot(A,b):               #GAUSSOVA ELIMINACE BEZ PIVOTOVÁNÍ\n",
    "    n=len(A)                         #n=velikost matice A\n",
    "    B=np.c_[A,b]                     #B=rozšířená matice soustavy\n",
    "    for i in range(n-1):             #procházíme všechny sloupce\n",
    "        for j in range(i+1,n):       #pro každé j>i vytvoříme nulu na j-tém řádku\n",
    "            B[j]=B[j]-B[j,i]/B[i,i]*B[i]\n",
    "    U=B[:,:n]                        #rozšířenou matici zpátky rozpůlíme na U a d\n",
    "    d=B[:,n:]\n",
    "    return(U,d)"
   ]
  },
  {
   "cell_type": "code",
   "execution_count": 12,
   "metadata": {},
   "outputs": [
    {
     "data": {
      "text/plain": [
       "138.13733652136747"
      ]
     },
     "execution_count": 12,
     "metadata": {},
     "output_type": "execute_result"
    }
   ],
   "source": [
    "n=200\n",
    "A=2*np.random.rand(n,n)-np.ones((n,n))\n",
    "x0=2*np.random.rand(n)-np.ones(n)\n",
    "b=np.dot(A,x0)\n",
    "[U1,d1]=Gauss(A,b)\n",
    "x1=BS(U1,d1)\n",
    "E1=np.linalg.norm(x1[:,0]-x0)\n",
    "[U2,d2]=GaussNoPivot(A,b)\n",
    "x2=BS(U2,d2)\n",
    "E2=np.linalg.norm(x2[:,0]-x0)\n",
    "E2/E1"
   ]
  },
  {
   "cell_type": "markdown",
   "metadata": {},
   "source": [
    "Následující kód generuje náhodné matice a počítá jejich číslo podmíněnosti (pomocí řádkové normy). Můžeme chvíli zkoušet generovat a poté si do proměnné `B` uložit nějakou matici s poměrně malým číslem podmíněnosti (třeba <500) a do `C` si zkopírujeme matici s nějakým vysokým číslem podmíněnosti (třeba >10000).\n",
    "\n",
    "Následně pro každou matici vygenerujeme náhodně dvacet pravých stran a spočítáme chybu řešení. Chyby následně zprůměrujeme Poměr chyb by měl řádově odpovídat poměru čísel podmíněnosti."
   ]
  },
  {
   "cell_type": "code",
   "execution_count": 19,
   "metadata": {},
   "outputs": [
    {
     "data": {
      "text/plain": [
       "30799.665932225416"
      ]
     },
     "execution_count": 19,
     "metadata": {},
     "output_type": "execute_result"
    }
   ],
   "source": [
    "n=40\n",
    "A=2*np.random.rand(n,n)-np.ones((n,n))\n",
    "np.linalg.norm(A,np.infty)*np.linalg.norm(np.linalg.inv(A),np.infty)"
   ]
  },
  {
   "cell_type": "code",
   "execution_count": 17,
   "metadata": {},
   "outputs": [],
   "source": [
    "B=np.ndarray.copy(A)"
   ]
  },
  {
   "cell_type": "code",
   "execution_count": 20,
   "metadata": {},
   "outputs": [],
   "source": [
    "C=np.ndarray.copy(A)"
   ]
  },
  {
   "cell_type": "code",
   "execution_count": 21,
   "metadata": {},
   "outputs": [
    {
     "name": "stdout",
     "output_type": "stream",
     "text": [
      "Číslo podmíněnosti pro B:  401.1520315715057\n",
      "Číslo podmíněnosti pro C:  30799.665932225416\n",
      "Podíl:  76.7780380210672\n"
     ]
    }
   ],
   "source": [
    "condB=np.linalg.norm(B,np.infty)*np.linalg.norm(np.linalg.inv(B),np.infty)\n",
    "condC=np.linalg.norm(C,np.infty)*np.linalg.norm(np.linalg.inv(C),np.infty)\n",
    "print(\"Číslo podmíněnosti pro B: \",condB)\n",
    "print(\"Číslo podmíněnosti pro C: \",condC)\n",
    "print(\"Podíl: \",condC/condB)"
   ]
  },
  {
   "cell_type": "code",
   "execution_count": 22,
   "metadata": {},
   "outputs": [
    {
     "name": "stdout",
     "output_type": "stream",
     "text": [
      "Průměrná chyba pro B:  1.1238940856924418e-14\n",
      "Průměrná chyba pro C:  7.540624461035936e-13\n",
      "Podíl:  67.09372846632684\n"
     ]
    }
   ],
   "source": [
    "E=0\n",
    "for i in range(20):\n",
    "    x0=2*np.random.rand(n)-np.ones(n)\n",
    "    b=np.dot(B,x0)\n",
    "    [U,d]=Gauss(B,b)\n",
    "    x=BS(U,d)\n",
    "    E=E+np.linalg.norm(x[:,0]-x0)\n",
    "E1=E/20\n",
    "print(\"Průměrná chyba pro B: \",E1)\n",
    "E=0\n",
    "for i in range(20):\n",
    "    x0=2*np.random.rand(n)-np.ones(n)\n",
    "    b=np.dot(C,x0)\n",
    "    [U,d]=Gauss(C,b)\n",
    "    x=BS(U,d)\n",
    "    E=E+np.linalg.norm(x[:,0]-x0)\n",
    "E2=E/20\n",
    "print(\"Průměrná chyba pro C: \",E2)\n",
    "print(\"Podíl: \",E2/E1)"
   ]
  },
  {
   "cell_type": "code",
   "execution_count": null,
   "metadata": {},
   "outputs": [],
   "source": []
  }
 ],
 "metadata": {
  "kernelspec": {
   "display_name": "Python 3",
   "language": "python",
   "name": "python3"
  },
  "language_info": {
   "codemirror_mode": {
    "name": "ipython",
    "version": 3
   },
   "file_extension": ".py",
   "mimetype": "text/x-python",
   "name": "python",
   "nbconvert_exporter": "python",
   "pygments_lexer": "ipython3",
   "version": "3.8.10"
  }
 },
 "nbformat": 4,
 "nbformat_minor": 5
}
