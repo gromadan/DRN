{
 "cells": [
  {
   "cell_type": "markdown",
   "id": "amended-deficit",
   "metadata": {},
   "source": [
    "__Rumpův příklad__\n",
    "$$u(x,y)=6675y^6+20x^2(11x^2y^2-y^6-121y^4-2)+110y^8+10x/y$$"
   ]
  },
  {
   "cell_type": "code",
   "execution_count": null,
   "id": "manual-trout",
   "metadata": {},
   "outputs": [],
   "source": [
    "def u(x,y):\n",
    "    return 6675*y**6+20*x**2*(11*x**2*y**2-y**6-121*y**4-2)+110*y**8+(10*x)/y"
   ]
  },
  {
   "cell_type": "code",
   "execution_count": null,
   "id": "illegal-isaac",
   "metadata": {},
   "outputs": [],
   "source": [
    "u(77617.0,33096.0)"
   ]
  },
  {
   "cell_type": "code",
   "execution_count": null,
   "id": "bridal-cement",
   "metadata": {},
   "outputs": [],
   "source": [
    "from decimal import *"
   ]
  },
  {
   "cell_type": "code",
   "execution_count": null,
   "id": "coupled-subscriber",
   "metadata": {},
   "outputs": [],
   "source": [
    "u(Decimal(77617),Decimal(33096))"
   ]
  },
  {
   "cell_type": "code",
   "execution_count": null,
   "id": "driven-buying",
   "metadata": {},
   "outputs": [],
   "source": [
    "getcontext().prec = 15\n",
    "u(Decimal(77617),Decimal(33096))"
   ]
  },
  {
   "cell_type": "code",
   "execution_count": null,
   "id": "pressing-support",
   "metadata": {},
   "outputs": [],
   "source": []
  }
 ],
 "metadata": {
  "kernelspec": {
   "display_name": "Python 3",
   "language": "python",
   "name": "python3"
  },
  "language_info": {
   "codemirror_mode": {
    "name": "ipython",
    "version": 3
   },
   "file_extension": ".py",
   "mimetype": "text/x-python",
   "name": "python",
   "nbconvert_exporter": "python",
   "pygments_lexer": "ipython3",
   "version": "3.9.2"
  }
 },
 "nbformat": 4,
 "nbformat_minor": 5
}
