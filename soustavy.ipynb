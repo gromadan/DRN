{
 "cells": [
  {
   "cell_type": "code",
   "execution_count": 4,
   "id": "nutritional-rapid",
   "metadata": {},
   "outputs": [],
   "source": [
    "n=3                             #dimenze, tj. počet rovnic a neznámých\n",
    "A=[[-4,2,0],[1,-1,0],[3,-2,1]]  #matice soustavy\n",
    "b=[-6,7,2]                      #vektor pravých stran"
   ]
  },
  {
   "cell_type": "markdown",
   "id": "recovered-framing",
   "metadata": {},
   "source": [
    "Jacobiho iterace:"
   ]
  },
  {
   "cell_type": "code",
   "execution_count": 5,
   "id": "multiple-intermediate",
   "metadata": {},
   "outputs": [
    {
     "name": "stdout",
     "output_type": "stream",
     "text": [
      "[1.5, -7.0, 2.0]\n",
      "[-2.0, -5.5, -16.5]\n",
      "[-1.25, -9.0, -3.0]\n",
      "[-3.0, -8.25, -12.25]\n",
      "[-2.625, -10.0, -5.5]\n",
      "[-3.5, -9.625, -10.125]\n",
      "[-3.3125, -10.5, -6.75]\n",
      "[-3.75, -10.3125, -9.0625]\n",
      "[-3.65625, -10.75, -7.375]\n",
      "[-3.875, -10.65625, -8.53125]\n",
      "[-3.828125, -10.875, -7.6875]\n",
      "[-3.9375, -10.828125, -8.265625]\n",
      "[-3.9140625, -10.9375, -7.84375]\n",
      "[-3.96875, -10.9140625, -8.1328125]\n",
      "[-3.95703125, -10.96875, -7.921875]\n",
      "[-3.984375, -10.95703125, -8.06640625]\n",
      "[-3.978515625, -10.984375, -7.9609375]\n",
      "[-3.9921875, -10.978515625, -8.033203125]\n",
      "[-3.9892578125, -10.9921875, -7.98046875]\n",
      "[-3.99609375, -10.9892578125, -8.0166015625]\n"
     ]
    }
   ],
   "source": [
    "x=[0,0,0]\n",
    "y=[]\n",
    "for k in range(20):\n",
    "    for i in range(n):\n",
    "        y.append((b[i]-sum([A[i][j]*x[j] for j in range(i)])-sum([A[i][j]*x[j] for j in range(i+1,n)]))/A[i][i])\n",
    "    x=y\n",
    "    y=[]\n",
    "    print(x)"
   ]
  },
  {
   "cell_type": "markdown",
   "id": "smart-plain",
   "metadata": {},
   "source": [
    "Gauss–Seidel:"
   ]
  },
  {
   "cell_type": "code",
   "execution_count": 6,
   "id": "committed-vaccine",
   "metadata": {},
   "outputs": [
    {
     "name": "stdout",
     "output_type": "stream",
     "text": [
      "[1.5, -5.5, -13.5]\n",
      "[-1.25, -8.25, -10.75]\n",
      "[-2.625, -9.625, -9.375]\n",
      "[-3.3125, -10.3125, -8.6875]\n",
      "[-3.65625, -10.65625, -8.34375]\n",
      "[-3.828125, -10.828125, -8.171875]\n",
      "[-3.9140625, -10.9140625, -8.0859375]\n",
      "[-3.95703125, -10.95703125, -8.04296875]\n",
      "[-3.978515625, -10.978515625, -8.021484375]\n",
      "[-3.9892578125, -10.9892578125, -8.0107421875]\n",
      "[-3.99462890625, -10.99462890625, -8.00537109375]\n",
      "[-3.997314453125, -10.997314453125, -8.002685546875]\n",
      "[-3.9986572265625, -10.9986572265625, -8.0013427734375]\n",
      "[-3.99932861328125, -10.99932861328125, -8.00067138671875]\n",
      "[-3.999664306640625, -10.999664306640625, -8.000335693359375]\n",
      "[-3.9998321533203125, -10.999832153320312, -8.000167846679688]\n",
      "[-3.9999160766601562, -10.999916076660156, -8.000083923339844]\n",
      "[-3.999958038330078, -10.999958038330078, -8.000041961669922]\n",
      "[-3.999979019165039, -10.999979019165039, -8.000020980834961]\n",
      "[-3.9999895095825195, -10.99998950958252, -8.00001049041748]\n"
     ]
    }
   ],
   "source": [
    "x=[0,0,0]\n",
    "for k in range(20):\n",
    "    for i in range(n):\n",
    "        x[i]=(b[i]-sum([A[i][j]*x[j] for j in range(i)])-sum([A[i][j]*x[j] for j in range(i+1,n)]))/A[i][i]\n",
    "    print(x)"
   ]
  },
  {
   "cell_type": "code",
   "execution_count": null,
   "id": "descending-basin",
   "metadata": {},
   "outputs": [],
   "source": []
  }
 ],
 "metadata": {
  "kernelspec": {
   "display_name": "Python 3",
   "language": "python",
   "name": "python3"
  },
  "language_info": {
   "codemirror_mode": {
    "name": "ipython",
    "version": 3
   },
   "file_extension": ".py",
   "mimetype": "text/x-python",
   "name": "python",
   "nbconvert_exporter": "python",
   "pygments_lexer": "ipython3",
   "version": "3.9.2"
  }
 },
 "nbformat": 4,
 "nbformat_minor": 5
}
