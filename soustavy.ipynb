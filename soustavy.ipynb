{
 "cells": [
  {
   "cell_type": "code",
   "execution_count": 1,
   "id": "nutritional-rapid",
   "metadata": {},
   "outputs": [],
   "source": [
    "n=3                            #dimenze, tj. počet rovnic a neznámých\n",
    "A=[[1,-1,1],[1,2,-1],[1,2,1]]  #matice soustavy\n",
    "b=[0,12,-2]                    #vektor pravých stran"
   ]
  },
  {
   "cell_type": "markdown",
   "id": "recovered-framing",
   "metadata": {},
   "source": [
    "Jacobiho iterace:"
   ]
  },
  {
   "cell_type": "code",
   "execution_count": 2,
   "id": "multiple-intermediate",
   "metadata": {},
   "outputs": [
    {
     "name": "stdout",
     "output_type": "stream",
     "text": [
      "[0.0, 6.0, -14.0]\n",
      "[20.0, -11.0, 0.0]\n",
      "[-11.0, 11.5, -14.0]\n",
      "[25.5, -13.75, 0.0]\n",
      "[-13.75, 12.875, -14.0]\n",
      "[26.875, -14.4375, 0.0]\n",
      "[-14.4375, 13.21875, -14.0]\n",
      "[27.21875, -14.609375, 0.0]\n",
      "[-14.609375, 13.3046875, -14.0]\n",
      "[27.3046875, -14.65234375, 0.0]\n",
      "[-14.65234375, 13.326171875, -14.0]\n",
      "[27.326171875, -14.6630859375, 0.0]\n",
      "[-14.6630859375, 13.33154296875, -14.0]\n",
      "[27.33154296875, -14.665771484375, 0.0]\n",
      "[-14.665771484375, 13.3328857421875, -14.0]\n",
      "[27.3328857421875, -14.66644287109375, 0.0]\n",
      "[-14.66644287109375, 13.333221435546875, -14.0]\n",
      "[27.333221435546875, -14.666610717773438, 0.0]\n",
      "[-14.666610717773438, 13.333305358886719, -14.0]\n",
      "[27.33330535888672, -14.66665267944336, 0.0]\n"
     ]
    }
   ],
   "source": [
    "x=[0,0,0]\n",
    "y=x\n",
    "for k in range(20):\n",
    "    for i in range(n):\n",
    "        y[i]=(b[i]-sum([A[i][j]*x[j] for j in range(i)])-sum([A[i][j]*x[j] for j in range(i+1,n)]))/A[i][i]\n",
    "    x=y;\n",
    "    print(x)"
   ]
  },
  {
   "cell_type": "markdown",
   "id": "smart-plain",
   "metadata": {},
   "source": [
    "Gauss–Seidel:"
   ]
  },
  {
   "cell_type": "code",
   "execution_count": 3,
   "id": "committed-vaccine",
   "metadata": {},
   "outputs": [
    {
     "name": "stdout",
     "output_type": "stream",
     "text": [
      "[0.0, 6.0, -14.0]\n",
      "[20.0, -11.0, 0.0]\n",
      "[-11.0, 11.5, -14.0]\n",
      "[25.5, -13.75, 0.0]\n",
      "[-13.75, 12.875, -14.0]\n",
      "[26.875, -14.4375, 0.0]\n",
      "[-14.4375, 13.21875, -14.0]\n",
      "[27.21875, -14.609375, 0.0]\n",
      "[-14.609375, 13.3046875, -14.0]\n",
      "[27.3046875, -14.65234375, 0.0]\n",
      "[-14.65234375, 13.326171875, -14.0]\n",
      "[27.326171875, -14.6630859375, 0.0]\n",
      "[-14.6630859375, 13.33154296875, -14.0]\n",
      "[27.33154296875, -14.665771484375, 0.0]\n",
      "[-14.665771484375, 13.3328857421875, -14.0]\n",
      "[27.3328857421875, -14.66644287109375, 0.0]\n",
      "[-14.66644287109375, 13.333221435546875, -14.0]\n",
      "[27.333221435546875, -14.666610717773438, 0.0]\n",
      "[-14.666610717773438, 13.333305358886719, -14.0]\n",
      "[27.33330535888672, -14.66665267944336, 0.0]\n"
     ]
    }
   ],
   "source": [
    "x=[0,0,0]\n",
    "for k in range(20):\n",
    "    for i in range(n):\n",
    "        x[i]=(b[i]-sum([A[i][j]*x[j] for j in range(i)])-sum([A[i][j]*x[j] for j in range(i+1,n)]))/A[i][i]\n",
    "    print(x)"
   ]
  },
  {
   "cell_type": "code",
   "execution_count": null,
   "id": "descending-basin",
   "metadata": {},
   "outputs": [],
   "source": []
  }
 ],
 "metadata": {
  "kernelspec": {
   "display_name": "Python 3",
   "language": "python",
   "name": "python3"
  },
  "language_info": {
   "codemirror_mode": {
    "name": "ipython",
    "version": 3
   },
   "file_extension": ".py",
   "mimetype": "text/x-python",
   "name": "python",
   "nbconvert_exporter": "python",
   "pygments_lexer": "ipython3",
   "version": "3.9.2"
  }
 },
 "nbformat": 4,
 "nbformat_minor": 5
}
