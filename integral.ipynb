{
 "cells": [
  {
   "cell_type": "code",
   "execution_count": 62,
   "metadata": {},
   "outputs": [],
   "source": [
    "import numpy as np\n",
    "import matplotlib.pyplot as plt\n",
    "from scipy import integrate"
   ]
  },
  {
   "cell_type": "markdown",
   "metadata": {},
   "source": [
    "Tento sešit ilustruje jednoduché numerické metody počítání integrálu\n",
    "$$I=\\int_a^bf$$\n",
    "\n",
    "V následující buňce funkci $f$ а meze intervalu $(a,b)$, přes který integrujeme. Dále nastavíme počet $n$ dílů, na který se interval rozdělí, čímž dostaneme krok $h=(b-a)/n$.\n",
    "\n",
    "Nakonec proměnná `xint` bude obsahovat pole, ve kterém bude schovaná posloupnost $(x_i)_{i=0}^{n}$, $x_i=a+ih$ (jinými slovy „navzorkujeme“ interval $(a,b)$ pomocí $n+1$ hodnot $x_0,\\dots,x_n$ včetně těch krajních). V proměnné `yint` budou pak obrazy těchto bodů $y_i=f(x_i)$."
   ]
  },
  {
   "cell_type": "code",
   "execution_count": 70,
   "metadata": {},
   "outputs": [],
   "source": [
    "def f(x):\n",
    "    return np.exp(x)\n",
    "\n",
    "a,b=1,7\n",
    "n=4\n",
    "h=(b-a)/n\n",
    "xint=np.linspace(a,b,n+1)\n",
    "yint=f(xint)"
   ]
  },
  {
   "cell_type": "markdown",
   "metadata": {},
   "source": [
    "Pro každou metodu vypočítáme danou aproximaci a její funkci ilustrujeme grafem.\n",
    "\n",
    "Začneme metodou levých obdélníků, kde aproximujeme $I\\thickapprox \\sum_{i=0}^{n-1}f(x_i)h$"
   ]
  },
  {
   "cell_type": "code",
   "execution_count": 71,
   "metadata": {},
   "outputs": [
    {
     "data": {
      "text/plain": [
       "471.2862871297907"
      ]
     },
     "execution_count": 71,
     "metadata": {},
     "output_type": "execute_result"
    },
    {
     "data": {
      "image/png": "[encoded data removed]",
      "text/plain": [
       "<Figure size 432x288 with 1 Axes>"
      ]
     },
     "metadata": {
      "needs_background": "light"
     },
     "output_type": "display_data"
    }
   ],
   "source": [
    "x=np.linspace(a,b,200)\n",
    "plt.plot(x,f(x))\n",
    "plt.bar(xint[:-1],yint[:-1],width=h,alpha=0.2,align='edge',facecolor='gray')\n",
    "\n",
    "sum(yint[:-1])*h"
   ]
  },
  {
   "cell_type": "markdown",
   "metadata": {},
   "source": [
    "Pokračujeme metodou pravých obdélníků s $I\\thickapprox \\sum_{i=1}^nf(x_i)h$"
   ]
  },
  {
   "cell_type": "code",
   "execution_count": 72,
   "metadata": {},
   "outputs": [
    {
     "data": {
      "text/plain": [
       "2112.15860202979"
      ]
     },
     "execution_count": 72,
     "metadata": {},
     "output_type": "execute_result"
    },
    {
     "data": {
      "image/png": "[encoded data removed]",
      "text/plain": [
       "<Figure size 432x288 with 1 Axes>"
      ]
     },
     "metadata": {
      "needs_background": "light"
     },
     "output_type": "display_data"
    }
   ],
   "source": [
    "x=np.linspace(a,b,200)\n",
    "plt.plot(x,f(x))\n",
    "plt.bar(xint[:-1],yint[1:],width=h,alpha=0.2,align='edge',facecolor='gray')\n",
    "\n",
    "sum(yint[1:])*h"
   ]
  },
  {
   "cell_type": "markdown",
   "metadata": {},
   "source": [
    "Skončíme metodou lichoběžníků, která je vlastně průměrem dvou předchozích. Výpočet lze zapsat jako $I\\thickapprox \\sum_{i=0}^{n-1}{f(x_i)+f(x_{i+1})\\over 2}h$"
   ]
  },
  {
   "cell_type": "code",
   "execution_count": 73,
   "metadata": {
    "scrolled": true
   },
   "outputs": [
    {
     "data": {
      "text/plain": [
       "1291.7224445797904"
      ]
     },
     "execution_count": 73,
     "metadata": {},
     "output_type": "execute_result"
    },
    {
     "data": {
      "image/png": "[encoded data removed]",
      "text/plain": [
       "<Figure size 432x288 with 1 Axes>"
      ]
     },
     "metadata": {
      "needs_background": "light"
     },
     "output_type": "display_data"
    }
   ],
   "source": [
    "x=np.linspace(a,b,200)\n",
    "plt.plot(x,f(x))\n",
    "plt.fill_between(xint, 0, yint, facecolor='gray', alpha=0.4)\n",
    "\n",
    "sum(yint[1:] + yint[:-1])*h/2"
   ]
  },
  {
   "cell_type": "markdown",
   "metadata": {},
   "source": [
    "Naše odhady můžeme porovnat s hodnotou spočítanou pomocí jakési vestavěné knihovny v Pythonu. (První číslo je hodnota integrálu, druhé je chyba.)"
   ]
  },
  {
   "cell_type": "code",
   "execution_count": 74,
   "metadata": {},
   "outputs": [
    {
     "data": {
      "text/plain": [
       "1291.7224445797904"
      ]
     },
     "execution_count": 74,
     "metadata": {},
     "output_type": "execute_result"
    }
   ],
   "source": [
    "integrate.trapezoid(yint,xint)"
   ]
  },
  {
   "cell_type": "code",
   "execution_count": 75,
   "metadata": {},
   "outputs": [
    {
     "data": {
      "text/plain": [
       "1118.0227226114507"
      ]
     },
     "execution_count": 75,
     "metadata": {},
     "output_type": "execute_result"
    }
   ],
   "source": [
    "integrate.simpson(yint,xint)"
   ]
  },
  {
   "cell_type": "code",
   "execution_count": 76,
   "metadata": {},
   "outputs": [
    {
     "data": {
      "text/plain": [
       "(1093.9148765999996, 1.2144894829813064e-11)"
      ]
     },
     "execution_count": 76,
     "metadata": {},
     "output_type": "execute_result"
    }
   ],
   "source": [
    "quad(f,a,b)"
   ]
  },
  {
   "cell_type": "code",
   "execution_count": null,
   "metadata": {},
   "outputs": [],
   "source": []
  }
 ],
 "metadata": {
  "kernelspec": {
   "display_name": "Python 3",
   "language": "python",
   "name": "python3"
  },
  "language_info": {
   "codemirror_mode": {
    "name": "ipython",
    "version": 3
   },
   "file_extension": ".py",
   "mimetype": "text/x-python",
   "name": "python",
   "nbconvert_exporter": "python",
   "pygments_lexer": "ipython3",
   "version": "3.9.2"
  }
 },
 "nbformat": 4,
 "nbformat_minor": 2
}
